{
  "cells": [
    {
      "cell_type": "code",
      "source": [
        "pip install openai"
      ],
      "metadata": {
        "colab": {
          "base_uri": "https://localhost:8080/"
        },
        "id": "ws4z8yF0dJIP",
        "outputId": "7ff58102-891c-4575-9cad-a922cafb226f"
      },
      "execution_count": 1,
      "outputs": [
        {
          "output_type": "stream",
          "name": "stdout",
          "text": [
            "Looking in indexes: https://pypi.org/simple, https://us-python.pkg.dev/colab-wheels/public/simple/\n",
            "Collecting openai\n",
            "  Downloading openai-0.26.5.tar.gz (55 kB)\n",
            "\u001b[2K     \u001b[90m━━━━━━━━━━━━━━━━━━━━━━━━━━━━━━━━━━━━━━━━\u001b[0m \u001b[32m55.5/55.5 KB\u001b[0m \u001b[31m5.8 MB/s\u001b[0m eta \u001b[36m0:00:00\u001b[0m\n",
            "\u001b[?25h  Installing build dependencies ... \u001b[?25l\u001b[?25hdone\n",
            "  Getting requirements to build wheel ... \u001b[?25l\u001b[?25hdone\n",
            "  Installing backend dependencies ... \u001b[?25l\u001b[?25hdone\n",
            "  Preparing metadata (pyproject.toml) ... \u001b[?25l\u001b[?25hdone\n",
            "Requirement already satisfied: tqdm in /usr/local/lib/python3.8/dist-packages (from openai) (4.64.1)\n",
            "Requirement already satisfied: requests>=2.20 in /usr/local/lib/python3.8/dist-packages (from openai) (2.25.1)\n",
            "Requirement already satisfied: aiohttp in /usr/local/lib/python3.8/dist-packages (from openai) (3.8.3)\n",
            "Requirement already satisfied: certifi>=2017.4.17 in /usr/local/lib/python3.8/dist-packages (from requests>=2.20->openai) (2022.12.7)\n",
            "Requirement already satisfied: idna<3,>=2.5 in /usr/local/lib/python3.8/dist-packages (from requests>=2.20->openai) (2.10)\n",
            "Requirement already satisfied: chardet<5,>=3.0.2 in /usr/local/lib/python3.8/dist-packages (from requests>=2.20->openai) (4.0.0)\n",
            "Requirement already satisfied: urllib3<1.27,>=1.21.1 in /usr/local/lib/python3.8/dist-packages (from requests>=2.20->openai) (1.24.3)\n",
            "Requirement already satisfied: attrs>=17.3.0 in /usr/local/lib/python3.8/dist-packages (from aiohttp->openai) (22.2.0)\n",
            "Requirement already satisfied: multidict<7.0,>=4.5 in /usr/local/lib/python3.8/dist-packages (from aiohttp->openai) (6.0.4)\n",
            "Requirement already satisfied: frozenlist>=1.1.1 in /usr/local/lib/python3.8/dist-packages (from aiohttp->openai) (1.3.3)\n",
            "Requirement already satisfied: async-timeout<5.0,>=4.0.0a3 in /usr/local/lib/python3.8/dist-packages (from aiohttp->openai) (4.0.2)\n",
            "Requirement already satisfied: aiosignal>=1.1.2 in /usr/local/lib/python3.8/dist-packages (from aiohttp->openai) (1.3.1)\n",
            "Requirement already satisfied: charset-normalizer<3.0,>=2.0 in /usr/local/lib/python3.8/dist-packages (from aiohttp->openai) (2.1.1)\n",
            "Requirement already satisfied: yarl<2.0,>=1.0 in /usr/local/lib/python3.8/dist-packages (from aiohttp->openai) (1.8.2)\n",
            "Building wheels for collected packages: openai\n",
            "  Building wheel for openai (pyproject.toml) ... \u001b[?25l\u001b[?25hdone\n",
            "  Created wheel for openai: filename=openai-0.26.5-py3-none-any.whl size=67620 sha256=9071e08fb624dda8fa9cf68c88076089d1ce6176ed2a158d7fa95b8c4736bcce\n",
            "  Stored in directory: /root/.cache/pip/wheels/a7/47/99/8273a59fbd59c303e8ff175416d5c1c9c03a2e83ebf7525a99\n",
            "Successfully built openai\n",
            "Installing collected packages: openai\n",
            "Successfully installed openai-0.26.5\n"
          ]
        }
      ]
    },
    {
      "cell_type": "code",
      "execution_count": 3,
      "metadata": {
        "colab": {
          "base_uri": "https://localhost:8080/"
        },
        "id": "C1-kh4dac9K3",
        "outputId": "41cc1fb9-fa3b-4547-8c22-26382a448209"
      },
      "outputs": [
        {
          "output_type": "stream",
          "name": "stdout",
          "text": [
            "Sending a test completion job\n",
            "how are u \n",
            "I'm doing great, thanks for asking!\n"
          ]
        }
      ],
      "source": [
        "import os\n",
        "import requests\n",
        "import json\n",
        "import openai\n",
        "import openpyxl\n",
        "import pandas as pd\n",
        "import spacy\n",
        "from spacy.lang.en import English\n",
        "\n",
        "openai.api_key = \"YOUR API KEY\"\n",
        "openai.api_base =  \"https://YOUR_RESOURCE_NAME.openai.azure.com/\" # your endpoint should look like the following https://YOUR_RESOURCE_NAME.openai.azure.com/\n",
        "openai.api_type = 'azure'\n",
        "openai.api_version = '2022-12-01' # this may change in the future\n",
        "deployment_name='YOUR DEPLOYMENT NAME' #This will correspond to the custom name you chose for your deployment when you deployed a model. \n",
        "\n",
        "# Send a completion call to generate an answer\n",
        "print('Sending a test completion job')\n",
        "start_phrase = 'how are u \\n'\n",
        "response = openai.Completion.create(engine=deployment_name, prompt=start_phrase, max_tokens=10)\n",
        "text = response['choices'][0]['text'].replace('\\n', '').replace(' .', '.').strip()\n",
        "print(start_phrase+text) "
      ]
    },
    {
      "cell_type": "code",
      "execution_count": 4,
      "metadata": {
        "id": "N6KZNYkqc9K7"
      },
      "outputs": [],
      "source": [
        "# read csv\n",
        "df = pd.read_csv(r'/content/input.csv')\n",
        "print(df)"
      ]
    },
    {
      "cell_type": "code",
      "execution_count": 5,
      "metadata": {
        "colab": {
          "base_uri": "https://localhost:8080/"
        },
        "id": "uHz5Z-Olc9K8",
        "outputId": "89fa49fb-316c-429d-9986-b65bb4419921"
      },
      "outputs": [
        {
          "output_type": "execute_result",
          "data": {
            "text/plain": [
              "<bound method DataFrame.drop_duplicates of                                           Review Title  \\\n",
              "0         Another Midrange killer Smartphone by Xiaomi   \n",
              "1                                vry small size mobile   \n",
              "2         Full display not working in all application.   \n",
              "3                                      Value for Money   \n",
              "4                              Not worth for the money   \n",
              "..                                                 ...   \n",
              "275  Cemera quality,face unlock most important in t...   \n",
              "276                                   Mi is best phone   \n",
              "277                                     Its a OK Phone   \n",
              "278                                              Redmi   \n",
              "279                           Not worth for the price.   \n",
              "\n",
              "                Customer name              Rating                  Date  \\\n",
              "0           Rishikumar Thakur  4.0 out of 5 stars     on 1 October 2018   \n",
              "1                     Raza ji  3.0 out of 5 stars  on 15 September 2018   \n",
              "2               Vaibhav Patel  3.0 out of 5 stars  on 18 September 2018   \n",
              "3             Amazon Customer  5.0 out of 5 stars  on 28 September 2018   \n",
              "4    Sudhakaran Wadakkancheri  2.0 out of 5 stars  on 18 September 2018   \n",
              "..                        ...                 ...                   ...   \n",
              "275                     Rahul  5.0 out of 5 stars  on 19 September 2018   \n",
              "276                Sunil Soni  4.0 out of 5 stars  on 18 September 2018   \n",
              "277                 D.C.Padhi  3.0 out of 5 stars  on 15 September 2018   \n",
              "278                    Mahesh  5.0 out of 5 stars  on 21 September 2018   \n",
              "279                     Vinod  1.0 out of 5 stars  on 17 September 2018   \n",
              "\n",
              "    Category                                           Comments  \\\n",
              "0    Display  Another Midrange killer Smartphone by Xiaomi\\n...   \n",
              "1     Others                   All ok but vry small size mobile   \n",
              "2     Others                                         Quite good   \n",
              "3    Display  Redmi has always have been the the king of bud...   \n",
              "4     Others  worst product from MI. I am a hardcore fan of ...   \n",
              "..       ...                                                ...   \n",
              "275   Others  I like This Phone, Awesome look and design.\\nI...   \n",
              "276   Others  Product is avasome but invoice is note include...   \n",
              "277  Battery  Redmi Note4, Note5, now 6pro..It seems the old...   \n",
              "278   Others                                          I love mi   \n",
              "279   Camera  Same old configurations with higher price.\\nNo...   \n",
              "\n",
              "                          Useful  \n",
              "0                                 \n",
              "1    7 people found this helpful  \n",
              "2    7 people found this helpful  \n",
              "3    2 people found this helpful  \n",
              "4    6 people found this helpful  \n",
              "..                           ...  \n",
              "275                          NaN  \n",
              "276                          NaN  \n",
              "277                          NaN  \n",
              "278                          NaN  \n",
              "279                          NaN  \n",
              "\n",
              "[280 rows x 7 columns]>"
            ]
          },
          "metadata": {},
          "execution_count": 5
        }
      ],
      "source": [
        "df.drop_duplicates"
      ]
    },
    {
      "cell_type": "code",
      "execution_count": 6,
      "metadata": {
        "id": "BODetY1Oc9K9"
      },
      "outputs": [],
      "source": [
        "#Sentiment_for_each_comment\n",
        "def CommentReview(comments):\n",
        "    completions=openai.Completion.create(\n",
        "        engine=deployment_name,\n",
        "        prompt=(f\"what type of comment - {comments} it is negative, positive or neutral?\"),\n",
        "        max_tokens=20\n",
        "    )\n",
        "    message=completions['choices'][0]['text'].replace('\\n', '').replace(' .', '.').strip()\n",
        "    return message\n",
        "\n",
        "cols = ['Category', 'Comments', 'ReviewType']\n",
        "df2 = pd.DataFrame(columns=cols)\n",
        "Sentiment_for_each_comment = pd.DataFrame(columns=cols)\n",
        "\n",
        "for ind in df.index:\n",
        "    cat = df['Category'][ind]\n",
        "    com = df['Comments'][ind]\n",
        "    Sentiment_for_each_comment = Sentiment_for_each_comment.append({'Category': df['Category'][ind], 'Comments':df['Comments'][ind], 'ReviewType': CommentReview(df['Comments'][ind])},ignore_index=True)\n"
      ]
    },
    {
      "cell_type": "code",
      "execution_count": 7,
      "metadata": {
        "colab": {
          "base_uri": "https://localhost:8080/",
          "height": 206
        },
        "id": "dzMMYmNEc9K-",
        "outputId": "962b4e45-026b-4acd-8633-caaa35c4ca04"
      },
      "outputs": [
        {
          "output_type": "execute_result",
          "data": {
            "text/plain": [
              "   Category                                Aggregated_Comments\n",
              "0   Battery  Thanks alot Amazon,ecom & seller.perfect produ...\n",
              "1    Camera  Front camera is poor rest things are good Fron...\n",
              "2  Delivery  Nice product. Delivery guy also. Nice product....\n",
              "3   Display  Another Midrange killer Smartphone by Xiaomi\\n...\n",
              "4    Others  All ok but vry small size mobile Quite good wo..."
            ],
            "text/html": [
              "\n",
              "  <div id=\"df-e045c53d-0b49-4e4c-ac14-7ecbd68bc014\">\n",
              "    <div class=\"colab-df-container\">\n",
              "      <div>\n",
              "<style scoped>\n",
              "    .dataframe tbody tr th:only-of-type {\n",
              "        vertical-align: middle;\n",
              "    }\n",
              "\n",
              "    .dataframe tbody tr th {\n",
              "        vertical-align: top;\n",
              "    }\n",
              "\n",
              "    .dataframe thead th {\n",
              "        text-align: right;\n",
              "    }\n",
              "</style>\n",
              "<table border=\"1\" class=\"dataframe\">\n",
              "  <thead>\n",
              "    <tr style=\"text-align: right;\">\n",
              "      <th></th>\n",
              "      <th>Category</th>\n",
              "      <th>Aggregated_Comments</th>\n",
              "    </tr>\n",
              "  </thead>\n",
              "  <tbody>\n",
              "    <tr>\n",
              "      <th>0</th>\n",
              "      <td>Battery</td>\n",
              "      <td>Thanks alot Amazon,ecom &amp; seller.perfect produ...</td>\n",
              "    </tr>\n",
              "    <tr>\n",
              "      <th>1</th>\n",
              "      <td>Camera</td>\n",
              "      <td>Front camera is poor rest things are good Fron...</td>\n",
              "    </tr>\n",
              "    <tr>\n",
              "      <th>2</th>\n",
              "      <td>Delivery</td>\n",
              "      <td>Nice product. Delivery guy also. Nice product....</td>\n",
              "    </tr>\n",
              "    <tr>\n",
              "      <th>3</th>\n",
              "      <td>Display</td>\n",
              "      <td>Another Midrange killer Smartphone by Xiaomi\\n...</td>\n",
              "    </tr>\n",
              "    <tr>\n",
              "      <th>4</th>\n",
              "      <td>Others</td>\n",
              "      <td>All ok but vry small size mobile Quite good wo...</td>\n",
              "    </tr>\n",
              "  </tbody>\n",
              "</table>\n",
              "</div>\n",
              "      <button class=\"colab-df-convert\" onclick=\"convertToInteractive('df-e045c53d-0b49-4e4c-ac14-7ecbd68bc014')\"\n",
              "              title=\"Convert this dataframe to an interactive table.\"\n",
              "              style=\"display:none;\">\n",
              "        \n",
              "  <svg xmlns=\"http://www.w3.org/2000/svg\" height=\"24px\"viewBox=\"0 0 24 24\"\n",
              "       width=\"24px\">\n",
              "    <path d=\"M0 0h24v24H0V0z\" fill=\"none\"/>\n",
              "    <path d=\"M18.56 5.44l.94 2.06.94-2.06 2.06-.94-2.06-.94-.94-2.06-.94 2.06-2.06.94zm-11 1L8.5 8.5l.94-2.06 2.06-.94-2.06-.94L8.5 2.5l-.94 2.06-2.06.94zm10 10l.94 2.06.94-2.06 2.06-.94-2.06-.94-.94-2.06-.94 2.06-2.06.94z\"/><path d=\"M17.41 7.96l-1.37-1.37c-.4-.4-.92-.59-1.43-.59-.52 0-1.04.2-1.43.59L10.3 9.45l-7.72 7.72c-.78.78-.78 2.05 0 2.83L4 21.41c.39.39.9.59 1.41.59.51 0 1.02-.2 1.41-.59l7.78-7.78 2.81-2.81c.8-.78.8-2.07 0-2.86zM5.41 20L4 18.59l7.72-7.72 1.47 1.35L5.41 20z\"/>\n",
              "  </svg>\n",
              "      </button>\n",
              "      \n",
              "  <style>\n",
              "    .colab-df-container {\n",
              "      display:flex;\n",
              "      flex-wrap:wrap;\n",
              "      gap: 12px;\n",
              "    }\n",
              "\n",
              "    .colab-df-convert {\n",
              "      background-color: #E8F0FE;\n",
              "      border: none;\n",
              "      border-radius: 50%;\n",
              "      cursor: pointer;\n",
              "      display: none;\n",
              "      fill: #1967D2;\n",
              "      height: 32px;\n",
              "      padding: 0 0 0 0;\n",
              "      width: 32px;\n",
              "    }\n",
              "\n",
              "    .colab-df-convert:hover {\n",
              "      background-color: #E2EBFA;\n",
              "      box-shadow: 0px 1px 2px rgba(60, 64, 67, 0.3), 0px 1px 3px 1px rgba(60, 64, 67, 0.15);\n",
              "      fill: #174EA6;\n",
              "    }\n",
              "\n",
              "    [theme=dark] .colab-df-convert {\n",
              "      background-color: #3B4455;\n",
              "      fill: #D2E3FC;\n",
              "    }\n",
              "\n",
              "    [theme=dark] .colab-df-convert:hover {\n",
              "      background-color: #434B5C;\n",
              "      box-shadow: 0px 1px 3px 1px rgba(0, 0, 0, 0.15);\n",
              "      filter: drop-shadow(0px 1px 2px rgba(0, 0, 0, 0.3));\n",
              "      fill: #FFFFFF;\n",
              "    }\n",
              "  </style>\n",
              "\n",
              "      <script>\n",
              "        const buttonEl =\n",
              "          document.querySelector('#df-e045c53d-0b49-4e4c-ac14-7ecbd68bc014 button.colab-df-convert');\n",
              "        buttonEl.style.display =\n",
              "          google.colab.kernel.accessAllowed ? 'block' : 'none';\n",
              "\n",
              "        async function convertToInteractive(key) {\n",
              "          const element = document.querySelector('#df-e045c53d-0b49-4e4c-ac14-7ecbd68bc014');\n",
              "          const dataTable =\n",
              "            await google.colab.kernel.invokeFunction('convertToInteractive',\n",
              "                                                     [key], {});\n",
              "          if (!dataTable) return;\n",
              "\n",
              "          const docLinkHtml = 'Like what you see? Visit the ' +\n",
              "            '<a target=\"_blank\" href=https://colab.research.google.com/notebooks/data_table.ipynb>data table notebook</a>'\n",
              "            + ' to learn more about interactive tables.';\n",
              "          element.innerHTML = '';\n",
              "          dataTable['output_type'] = 'display_data';\n",
              "          await google.colab.output.renderOutput(dataTable, element);\n",
              "          const docLink = document.createElement('div');\n",
              "          docLink.innerHTML = docLinkHtml;\n",
              "          element.appendChild(docLink);\n",
              "        }\n",
              "      </script>\n",
              "    </div>\n",
              "  </div>\n",
              "  "
            ]
          },
          "metadata": {},
          "execution_count": 7
        }
      ],
      "source": [
        "df_grouped = df.groupby(\"Category\")[\"Comments\"].apply(\" \".join).reset_index()\n",
        "df_grouped = df_grouped.rename(columns={\"Comments\": \"Aggregated_Comments\"})\n",
        "df_grouped"
      ]
    },
    {
      "cell_type": "code",
      "execution_count": 8,
      "metadata": {
        "tags": [
          "Category wise Comments Summarization"
        ],
        "colab": {
          "base_uri": "https://localhost:8080/"
        },
        "id": "E16EPGxLc9K-",
        "outputId": "2d883daf-b86e-41db-f5f2-f1c103400840"
      },
      "outputs": [
        {
          "output_type": "stream",
          "name": "stdout",
          "text": [
            "Category wise Summarization of comments:\n",
            "Battery :\n",
            "The Mi 6 Pro is a satisfactory phone considering its price and quality; however, it has some issues such as lagging, hanging, and charging. The Redmi Note 4 is performing better than the newer models, but the Mi 6 Pro is still considered an okay phone for its price point. Nevertheless, customers are disappointed with the lack of additional features, such as no front flash due to the smaller USB cables.\n",
            "Camera :\n",
            "This phone has a notch design and poor front camera quality, an outdated processor that affects use of multiple apps, a suboptimal build quality susceptible to damage, an average rear camera quality, distorted speakerphone and earphone, and a decent screen that provides a poorer video quality when streaming. At the 11K price tag, this phone is not worth it and other better options are in the same range.\n",
            "Delivery :\n",
            "This customer was overall pleased with the product they received from Amazon, finding it to be powerful and with quick delivery of just 22 hours. Though the customer appreciated the delivery person, they were unsatisfied with the late delivery and the lack of a charger included in the package.\n",
            "Display :\n",
            "This comment suggests that the camera has good qualities, but is not special as it is only equipped with a basic dual camera setup.\n",
            "Others :\n",
            "\n"
          ]
        }
      ],
      "source": [
        "#category wise summariszation of comments\n",
        "\n",
        "nlp = spacy.load(\"en_core_web_sm\")\n",
        "\n",
        "def text_to_chunks(text):\n",
        "  chunks = [[]]\n",
        "  chunk_total_words = 0\n",
        "\n",
        "  sentences = nlp(text)\n",
        "\n",
        "  for sentence in sentences.sents:\n",
        "    chunk_total_words += len(sentence.text.split(\" \"))\n",
        "\n",
        "    if chunk_total_words > 1000:\n",
        "      chunks.append([])\n",
        "      chunk_total_words = len(sentence.text.split(\" \"))\n",
        "\n",
        "    chunks[len(chunks)-1].append(sentence.text)\n",
        "  \n",
        "  return chunks\n",
        "\n",
        "def Comment_category(Comments):\n",
        "    completions=openai.Completion.create(\n",
        "        engine=deployment_name,\n",
        "        prompt=(f\"Give Summariaztion for the following comments:{Comments}\"),\n",
        "        max_tokens=200\n",
        "    )\n",
        "    message=completions['choices'][0]['text'].replace('\\n', '').replace(' .', '.').strip()\n",
        "    return message\n",
        "\n",
        "print(\"Category wise Summarization of comments:\")\n",
        "\n",
        "cols = ['Category','Summarized Comment']\n",
        "summariszation_of_comments = pd.DataFrame(columns=cols)\n",
        "\n",
        "for ind in df_grouped.index:\n",
        "    cat = df_grouped['Category'][ind]\n",
        "    com = df_grouped['Aggregated_Comments'][ind]\n",
        "    chunks = text_to_chunks(com)\n",
        "    for chunk in chunks:\n",
        "      chunk_summaries = []\n",
        "      chunk_summary = Comment_category(\" \".join(chunk))\n",
        "      chunk_summaries.append(chunk_summary)\n",
        "    summary = \" \".join(chunk_summaries)\n",
        "    print(df_grouped['Category'][ind], \":\"+\"\\n\"+Comment_category(summary), end=\"\\n\")\n",
        "    summariszation_of_comments = summariszation_of_comments.append({'Category': df['Category'][ind], 'Summarized Comment': Comment_category(summary)},ignore_index=True)"
      ]
    },
    {
      "cell_type": "code",
      "execution_count": 9,
      "metadata": {
        "colab": {
          "base_uri": "https://localhost:8080/"
        },
        "id": "bskp7qvyc9K_",
        "outputId": "b4557b9a-68dd-471f-8b70-ac00ad8a80bc"
      },
      "outputs": [
        {
          "output_type": "stream",
          "name": "stdout",
          "text": [
            "DataFrame is written to Excel File successfully.\n"
          ]
        }
      ],
      "source": [
        "file_name = 'output.xlsx'\n",
        "# Load the workbook\n",
        "writer = pd.ExcelWriter('output.xlsx', engine='openpyxl') \n",
        "workbook = openpyxl.Workbook()\n",
        "writer.book = workbook\n",
        "\n",
        "# Write the DataFrame to a new sheet\n",
        "Sentiment_for_each_comment.to_excel(writer, index=False, sheet_name='Sentiment for each comment')\n",
        "summariszation_of_comments.to_excel(writer, index=False, sheet_name='summariszation of comments')\n",
        "\n",
        "# Save the workbook\n",
        "writer.save()\n",
        "print('DataFrame is written to Excel File successfully.')"
      ]
    }
  ],
  "metadata": {
    "kernelspec": {
      "display_name": "Python 3",
      "language": "python",
      "name": "python3"
    },
    "language_info": {
      "codemirror_mode": {
        "name": "ipython",
        "version": 3
      },
      "file_extension": ".py",
      "mimetype": "text/x-python",
      "name": "python",
      "nbconvert_exporter": "python",
      "pygments_lexer": "ipython3",
      "version": "3.10.6"
    },
    "orig_nbformat": 4,
    "vscode": {
      "interpreter": {
        "hash": "369f2c481f4da34e4445cda3fffd2e751bd1c4d706f27375911949ba6bb62e1c"
      }
    },
    "colab": {
      "provenance": []
    }
  },
  "nbformat": 4,
  "nbformat_minor": 0
}